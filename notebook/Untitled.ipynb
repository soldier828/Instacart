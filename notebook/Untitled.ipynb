{
 "cells": [
  {
   "cell_type": "code",
   "execution_count": 20,
   "metadata": {
    "collapsed": true
   },
   "outputs": [],
   "source": [
    "import csv, os\n",
    "data_root = '/Users/liunan/workspace/DATA/instacart_2017_05_01'"
   ]
  },
  {
   "cell_type": "code",
   "execution_count": 34,
   "metadata": {
    "collapsed": true
   },
   "outputs": [],
   "source": [
    "aisles_path = os.path.join(data_root, 'aisles.csv')\n",
    "departments_path = os.path.join(data_root, 'departments.csv')\n",
    "order_products__prior_path = os.path.join(data_root, 'order_products__prior.csv')\n",
    "order_products__train_path = os.path.join(data_root, 'order_products__train.csv')\n",
    "orders_path = os.path.join(data_root, 'orders.csv')\n",
    "products = os.path.join(data_root, 'products.csv')"
   ]
  },
  {
   "cell_type": "code",
   "execution_count": 42,
   "metadata": {
    "collapsed": false,
    "scrolled": false
   },
   "outputs": [
    {
     "name": "stdout",
     "output_type": "stream",
     "text": [
      "['aisle_id', 'aisle']\n",
      "['1', 'prepared soups salads']\n",
      "['2', 'specialty cheeses']\n",
      "['3', 'energy granola bars']\n",
      "['4', 'instant foods']\n",
      "['5', 'marinades meat preparation']\n",
      "['6', 'other']\n",
      "['7', 'packaged meat']\n",
      "['8', 'bakery desserts']\n",
      "['9', 'pasta sauce']\n",
      "['10', 'kitchen supplies']\n",
      "['11', 'cold flu allergy']\n",
      "['12', 'fresh pasta']\n",
      "['13', 'prepared meals']\n",
      "['14', 'tofu meat alternatives']\n",
      "['15', 'packaged seafood']\n",
      "['16', 'fresh herbs']\n",
      "['17', 'baking ingredients']\n",
      "['18', 'bulk dried fruits vegetables']\n",
      "['19', 'oils vinegars']\n",
      "['20', 'oral hygiene']\n",
      "['21', 'packaged cheese']\n",
      "['22', 'hair care']\n",
      "['23', 'popcorn jerky']\n",
      "['24', 'fresh fruits']\n",
      "['25', 'soap']\n",
      "['26', 'coffee']\n",
      "['27', 'beers coolers']\n",
      "['28', 'red wines']\n",
      "['29', 'honeys syrups nectars']\n",
      "['30', 'latino foods']\n",
      "['31', 'refrigerated']\n",
      "['32', 'packaged produce']\n",
      "['33', 'kosher foods']\n",
      "['34', 'frozen meat seafood']\n",
      "['35', 'poultry counter']\n",
      "['36', 'butter']\n",
      "['37', 'ice cream ice']\n",
      "['38', 'frozen meals']\n",
      "['39', 'seafood counter']\n",
      "['40', 'dog food care']\n",
      "['41', 'cat food care']\n",
      "['42', 'frozen vegan vegetarian']\n",
      "['43', 'buns rolls']\n",
      "['44', 'eye ear care']\n",
      "['45', 'candy chocolate']\n",
      "['46', 'mint gum']\n",
      "['47', 'vitamins supplements']\n",
      "['48', 'breakfast bars pastries']\n",
      "['49', 'packaged poultry']\n",
      "['50', 'fruit vegetable snacks']\n",
      "['51', 'preserved dips spreads']\n",
      "['52', 'frozen breakfast']\n",
      "['53', 'cream']\n",
      "['54', 'paper goods']\n",
      "['55', 'shave needs']\n",
      "['56', 'diapers wipes']\n",
      "['57', 'granola']\n",
      "['58', 'frozen breads doughs']\n",
      "['59', 'canned meals beans']\n",
      "['60', 'trash bags liners']\n",
      "['61', 'cookies cakes']\n",
      "['62', 'white wines']\n",
      "['63', 'grains rice dried goods']\n",
      "['64', 'energy sports drinks']\n",
      "['65', 'protein meal replacements']\n",
      "['66', 'asian foods']\n",
      "['67', 'fresh dips tapenades']\n",
      "['68', 'bulk grains rice dried goods']\n",
      "['69', 'soup broth bouillon']\n",
      "['70', 'digestion']\n",
      "['71', 'refrigerated pudding desserts']\n",
      "['72', 'condiments']\n",
      "['73', 'facial care']\n",
      "['74', 'dish detergents']\n",
      "['75', 'laundry']\n",
      "['76', 'indian foods']\n",
      "['77', 'soft drinks']\n",
      "['78', 'crackers']\n",
      "['79', 'frozen pizza']\n",
      "['80', 'deodorants']\n",
      "['81', 'canned jarred vegetables']\n",
      "['82', 'baby accessories']\n",
      "['83', 'fresh vegetables']\n",
      "['84', 'milk']\n",
      "['85', 'food storage']\n",
      "['86', 'eggs']\n",
      "['87', 'more household']\n",
      "['88', 'spreads']\n",
      "['89', 'salad dressing toppings']\n",
      "['90', 'cocoa drink mixes']\n",
      "['91', 'soy lactosefree']\n",
      "['92', 'baby food formula']\n",
      "['93', 'breakfast bakery']\n",
      "['94', 'tea']\n",
      "['95', 'canned meat seafood']\n",
      "['96', 'lunch meat']\n",
      "['97', 'baking supplies decor']\n",
      "['98', 'juice nectars']\n",
      "['99', 'canned fruit applesauce']\n",
      "['100', 'missing']\n",
      "['101', 'air fresheners candles']\n",
      "['102', 'baby bath body care']\n",
      "['103', 'ice cream toppings']\n",
      "['104', 'spices seasonings']\n",
      "['105', 'doughs gelatins bake mixes']\n",
      "['106', 'hot dogs bacon sausage']\n",
      "['107', 'chips pretzels']\n",
      "['108', 'other creams cheeses']\n",
      "['109', 'skin care']\n",
      "['110', 'pickled goods olives']\n",
      "['111', 'plates bowls cups flatware']\n",
      "['112', 'bread']\n",
      "['113', 'frozen juice']\n",
      "['114', 'cleaning products']\n",
      "['115', 'water seltzer sparkling water']\n",
      "['116', 'frozen produce']\n",
      "['117', 'nuts seeds dried fruit']\n",
      "['118', 'first aid']\n",
      "['119', 'frozen dessert']\n",
      "['120', 'yogurt']\n",
      "['121', 'cereal']\n",
      "['122', 'meat counter']\n",
      "['123', 'packaged vegetables fruits']\n",
      "['124', 'spirits']\n",
      "['125', 'trail mix snack mix']\n",
      "['126', 'feminine care']\n",
      "['127', 'body lotions soap']\n",
      "['128', 'tortillas flat bread']\n",
      "['129', 'frozen appetizers sides']\n",
      "['130', 'hot cereal pancake mixes']\n",
      "['131', 'dry pasta']\n",
      "['132', 'beauty']\n",
      "['133', 'muscles joints pain relief']\n",
      "['134', 'specialty wines champagnes']\n"
     ]
    }
   ],
   "source": [
    "with open(aisles_path,'rb') as myFile:  \n",
    "    lines=csv.reader(myFile)  \n",
    "    for line in lines:\n",
    "        print line"
   ]
  },
  {
   "cell_type": "code",
   "execution_count": 40,
   "metadata": {
    "collapsed": false
   },
   "outputs": [
    {
     "data": {
      "text/plain": [
       "49689L"
      ]
     },
     "execution_count": 40,
     "metadata": {},
     "output_type": "execute_result"
    }
   ],
   "source": [
    "lines.line_num"
   ]
  },
  {
   "cell_type": "code",
   "execution_count": null,
   "metadata": {
    "collapsed": true
   },
   "outputs": [],
   "source": []
  }
 ],
 "metadata": {
  "anaconda-cloud": {},
  "kernelspec": {
   "display_name": "Python [default]",
   "language": "python",
   "name": "python2"
  },
  "language_info": {
   "codemirror_mode": {
    "name": "ipython",
    "version": 2
   },
   "file_extension": ".py",
   "mimetype": "text/x-python",
   "name": "python",
   "nbconvert_exporter": "python",
   "pygments_lexer": "ipython2",
   "version": "2.7.12"
  }
 },
 "nbformat": 4,
 "nbformat_minor": 1
}
